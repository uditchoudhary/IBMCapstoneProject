{
    "cells": [
        {
            "cell_type": "markdown",
            "metadata": {
                "collapsed": true
            },
            "source": "## Introduction to Business Problem"
        },
        {
            "cell_type": "markdown",
            "metadata": {},
            "source": "### Opening a new Asian Restaurant in Auckland, New Zealand"
        },
        {
            "cell_type": "markdown",
            "metadata": {},
            "source": "The objective of this report is to determine the best possible location to open an Asian Restaurant in Auckland, New Zealand based on the different localities of the city, already established Asian restaurant in varios geographical location and ease of accessibility by maximum number of people so that the revenue from the latest venture can be maximized."
        },
        {
            "cell_type": "markdown",
            "metadata": {},
            "source": "### Data"
        },
        {
            "cell_type": "markdown",
            "metadata": {},
            "source": "This project will use data from :\n\nGeopy - For getting the co-ordinated of different locations.<br>\nFoursquare API - To get the list of vanues and their details around a given location."
        },
        {
            "cell_type": "code",
            "execution_count": null,
            "metadata": {},
            "outputs": [],
            "source": ""
        }
    ],
    "metadata": {
        "kernelspec": {
            "display_name": "Python 3.7",
            "language": "python",
            "name": "python3"
        },
        "language_info": {
            "codemirror_mode": {
                "name": "ipython",
                "version": 3
            },
            "file_extension": ".py",
            "mimetype": "text/x-python",
            "name": "python",
            "nbconvert_exporter": "python",
            "pygments_lexer": "ipython3",
            "version": "3.7.9"
        }
    },
    "nbformat": 4,
    "nbformat_minor": 1
}