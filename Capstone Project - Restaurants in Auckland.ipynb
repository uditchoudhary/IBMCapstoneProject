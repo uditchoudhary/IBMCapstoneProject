{
    "cells": [
        {
            "metadata": {
                "collapsed": true
            },
            "cell_type": "markdown",
            "source": "## Introduction to Business Problem"
        },
        {
            "metadata": {},
            "cell_type": "markdown",
            "source": "### Opening a new Indian Restaurant in Auckland, New Zealand"
        },
        {
            "metadata": {},
            "cell_type": "markdown",
            "source": "The objective of this report is to determine the best possible location to open an Indian Restaurant in Auckland, New Zealand based on the different localities of the city, already established Indian restaurants in varios geographical location and ease of accessibility by maximum number of people so that the revenue from the latest venture can be maximized."
        },
        {
            "metadata": {},
            "cell_type": "markdown",
            "source": "#### Stakeholders"
        },
        {
            "metadata": {},
            "cell_type": "markdown",
            "source": "- Someone who wants to open a new Indian restaurant in Auckland\n- Existing businesses could use the information gathered to extend their business in different location"
        },
        {
            "metadata": {},
            "cell_type": "markdown",
            "source": "### Data"
        },
        {
            "metadata": {},
            "cell_type": "markdown",
            "source": "This project will process the data fetched from the following sources \n\n* Zomato - To get the Popular localities in and around Auckland\n    * BeautifulSoup API will be used to fetch the information from Zomato Auckland page\n    * Data will consist of a list of the name of popular localities in and around Auckland\n* Geocoder - For getting the co-ordinated of different locations\n    * Geocoder will provide latitude and longitude of locations\n    * The data will be an object containing location details such as latitude and longitude \n* Foursquare API - To get the list of venues and their details around a given location\n    * Foursquare APIs with the required paramters including, but not limited to, latitude, longitude and client ID, will return a JSON response\n    * Foursquare APIs will return venue information\n        * Category to filter out Indian resturants \n        * Total number of the Indian resturants and their ranking\n        * Cuisine offered by existing restruant\n<br>With the collected data, we can analyse which locations lack good Indian resturant and locations with Indian resturants doesnt have good ratings and reviews.\n    "
        },
        {
            "metadata": {},
            "cell_type": "code",
            "source": "",
            "execution_count": null,
            "outputs": []
        }
    ],
    "metadata": {
        "kernelspec": {
            "name": "python3",
            "display_name": "Python 3.7",
            "language": "python"
        },
        "language_info": {
            "name": "python",
            "version": "3.7.9",
            "mimetype": "text/x-python",
            "codemirror_mode": {
                "name": "ipython",
                "version": 3
            },
            "pygments_lexer": "ipython3",
            "nbconvert_exporter": "python",
            "file_extension": ".py"
        }
    },
    "nbformat": 4,
    "nbformat_minor": 1
}